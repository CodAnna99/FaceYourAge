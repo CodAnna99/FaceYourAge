{
  "cells": [
    {
      "cell_type": "markdown",
      "source": [
        "#Gender & Age Detection for UTK-Faces using Edge Impulse"
      ],
      "metadata": {
        "id": "h3bw7bpR13pC"
      },
      "id": "h3bw7bpR13pC"
    },
    {
      "cell_type": "markdown",
      "source": [
        "## Ressources\n",
        "\n",
        "*   Edge Impulse CNN-Regression & Classification\n",
        "*  [ Dataset UTK-Face ](https://www.kaggle.com/datasets/jangedoo/utkface-new) on Kaggel\n",
        "\n",
        "*   [Ngrok Agent](https://ngrok.com/) for virtual server\n",
        "*   [Flask Webframework](https://flask.palletsprojects.com/en/3.0.x/) for app rendering\n",
        "\n",
        "## Project Goal\n",
        "The goal of the project is to train a computer vision model on [Edge Impulse](https://edgeimpulse.com/) to predict gender and age based on a person’s profile photo. This model will be integrated into a simple frontend with picture upload functionality, allowing for on-the-fly use without relying on on-premise installations.\n",
        "\n",
        "The models were trained on approx. 23k images, all labeled with their gender (female/male) and age (1-116) with a 80/20 test split."
      ],
      "metadata": {
        "id": "3YwEru5G2CCZ"
      },
      "id": "3YwEru5G2CCZ"
    },
    {
      "cell_type": "markdown",
      "source": [
        "# Install and Import Necessary Ressources"
      ],
      "metadata": {
        "id": "QyRaMtIxC6Lk"
      },
      "id": "QyRaMtIxC6Lk"
    },
    {
      "cell_type": "code",
      "execution_count": 98,
      "id": "6fcc9f2c",
      "metadata": {
        "colab": {
          "base_uri": "https://localhost:8080/"
        },
        "id": "6fcc9f2c",
        "outputId": "77c84b12-e326-47af-f5af-4d44e6c44e12"
      },
      "outputs": [
        {
          "output_type": "stream",
          "name": "stdout",
          "text": [
            "Requirement already satisfied: flask in /usr/local/lib/python3.10/dist-packages (2.2.5)\n",
            "Requirement already satisfied: pyngrok in /usr/local/lib/python3.10/dist-packages (7.2.0)\n",
            "Requirement already satisfied: Werkzeug>=2.2.2 in /usr/local/lib/python3.10/dist-packages (from flask) (3.0.3)\n",
            "Requirement already satisfied: Jinja2>=3.0 in /usr/local/lib/python3.10/dist-packages (from flask) (3.1.4)\n",
            "Requirement already satisfied: itsdangerous>=2.0 in /usr/local/lib/python3.10/dist-packages (from flask) (2.2.0)\n",
            "Requirement already satisfied: click>=8.0 in /usr/local/lib/python3.10/dist-packages (from flask) (8.1.7)\n",
            "Requirement already satisfied: PyYAML>=5.1 in /usr/local/lib/python3.10/dist-packages (from pyngrok) (6.0.2)\n",
            "Requirement already satisfied: MarkupSafe>=2.0 in /usr/local/lib/python3.10/dist-packages (from Jinja2>=3.0->flask) (2.1.5)\n",
            "Requirement already satisfied: tflite-runtime in /usr/local/lib/python3.10/dist-packages (2.14.0)\n",
            "Requirement already satisfied: numpy>=1.23.2 in /usr/local/lib/python3.10/dist-packages (from tflite-runtime) (1.26.4)\n"
          ]
        }
      ],
      "source": [
        "!pip install flask pyngrok\n",
        "!pip install tflite-runtime\n",
        "\n",
        "\n",
        "from flask import Flask, render_template_string, request, jsonify, send_file\n",
        "import cv2\n",
        "import numpy as np\n",
        "import tensorflow as tf\n",
        "import os\n",
        "import base64\n",
        "from io import BytesIO\n",
        "from PIL import Image\n",
        "from pyngrok import ngrok"
      ]
    },
    {
      "cell_type": "markdown",
      "source": [
        "# Prepare Flask-App"
      ],
      "metadata": {
        "id": "Sf3PGadyDFIb"
      },
      "id": "Sf3PGadyDFIb"
    },
    {
      "cell_type": "code",
      "execution_count": 99,
      "id": "04264251",
      "metadata": {
        "id": "04264251"
      },
      "outputs": [],
      "source": [
        "app = Flask(__name__)"
      ]
    },
    {
      "cell_type": "markdown",
      "source": [
        "# Prepare Frontend Code\n",
        "\n",
        "The fronend contains a (dramatic) background picture, made with [leonardo.ai](https://www.leonardo.ai) and uses simple CSS and JavaScript elements to produce a picture upload area and the AI generated results after upload.\n",
        "\n",
        "The frontend is in German."
      ],
      "metadata": {
        "id": "-J4yWGwfDP16"
      },
      "id": "-J4yWGwfDP16"
    },
    {
      "cell_type": "code",
      "execution_count": 100,
      "id": "7122c9ea",
      "metadata": {
        "id": "7122c9ea"
      },
      "outputs": [],
      "source": [
        "# HTML Inhalt\n",
        "html = '''\n",
        "    <!DOCTYPE html>\n",
        "    <html lang=\"de\">\n",
        "    <head>\n",
        "        <meta charset=\"UTF-8\">\n",
        "        <meta name=\"viewport\" content=\"width=device-width, initial-scale=1.0\">\n",
        "        <title>Face Your Age!</title>\n",
        "        <link href=\"https://fonts.googleapis.com/css2?family=Orbitron:wght@400;700&display=swap\" rel=\"stylesheet\">\n",
        "        <style>\n",
        "            body {\n",
        "                font-family: 'Orbitron', sans-serif;\n",
        "                text-align: center;\n",
        "                background-image: url('https://cdn.leonardo.ai/users/3b6c7a1b-3c4c-41ad-95eb-c041cde7a6c9/generations/19330bf5-a67f-4be5-abc2-f2fcf37a57ba/Default_Create_a_photorealistic_genderneutral_face_against_a_d_0.jpg');\n",
        "                background-size: cover;\n",
        "                background-position: center;\n",
        "                background-repeat: no-repeat;\n",
        "                height: 100vh;\n",
        "                margin: 0;\n",
        "                color: #42d9c8;\n",
        "                display: flex;\n",
        "                justify-content: center;\n",
        "                align-items: center;\n",
        "                flex-direction: column;\n",
        "            }\n",
        "\n",
        "            h1 {\n",
        "                font-size: 5em;\n",
        "            }\n",
        "\n",
        "            .upload-area {\n",
        "                border: 2px dashed #42d9c8;\n",
        "                color: #42d9c8;\n",
        "                background-color: rgba(50, 103, 113, 0.8);\n",
        "                padding: 20px;\n",
        "                margin: 10px;\n",
        "                border-radius: 10px;\n",
        "                width: fit-content;\n",
        "                text-align: inline-block;\n",
        "            }\n",
        "\n",
        "            .upload-area.dragover {\n",
        "                background-color: rgba(66, 217, 200, 0.8);\n",
        "            }\n",
        "\n",
        "            input[type=\"file\"] {\n",
        "                display: none;\n",
        "            }\n",
        "\n",
        "            button {\n",
        "                border: 2px solid #42d9c8;\n",
        "                color: #42d9c8;\n",
        "                background-color: rgba(50, 103, 113, 0.8);\n",
        "                padding: 10px;\n",
        "                margin: 5px;\n",
        "                border-radius: 5px;\n",
        "                cursor: pointer;\n",
        "            }\n",
        "\n",
        "            .loading-animation {\n",
        "                border: 16px solid #f3f3f3;\n",
        "                border-top: 16px solid #42d9c8;\n",
        "                border-radius: 50%;\n",
        "                width: 120px;\n",
        "                height: 120px;\n",
        "                animation: spin 2s linear infinite;\n",
        "                margin-top: 20px;\n",
        "            }\n",
        "\n",
        "            @keyframes spin {\n",
        "                0% { transform: rotate(0deg); }\n",
        "                100% { transform: rotate(360deg); }\n",
        "            }\n",
        "\n",
        "           #result {\n",
        "                font-size: 2em;\n",
        "                border: 2px solid #42d9c8;\n",
        "                color: #42d9c8;\n",
        "                background-color: rgba(50, 103, 113, 0.8);\n",
        "                padding: 20px;\n",
        "                margin: 10px;\n",
        "                border-radius: 10px;\n",
        "                width: fit-content;\n",
        "                display: none; // Hide result area until content is available\n",
        "            }\n",
        "\n",
        "            #uploaded-image {\n",
        "                margin-top: 20px;\n",
        "                max-width: 100%;\n",
        "                border: 2px solid #42d9c8;\n",
        "                border-radius: 10px;\n",
        "            }\n",
        "\n",
        "            #back-button {\n",
        "                margin-top: 20px;\n",
        "            }\n",
        "        </style>\n",
        "    </head>\n",
        "    <body>\n",
        "        <h1>Face Your Age!</h1>\n",
        "        <form id=\"upload-form\" enctype=\"multipart/form-data\">\n",
        "            <div class=\"upload-area\" id=\"upload-area\">\n",
        "                Ziehe dein Bild hierher oder klicke, um es auszuwählen\n",
        "                <input type=\"file\" name=\"file\" id=\"file-input\">\n",
        "            </div>\n",
        "            <button type=\"submit\">Guess My Age</button>\n",
        "        </form>\n",
        "        <div id=\"loading\" class=\"loading-animation\" style=\"display: none;\"></div>\n",
        "        <div id=\"result\"></div>\n",
        "        <img id=\"uploaded-image\" src=\"\" alt=\"Uploaded Image\" style=\"display: none;\">\n",
        "        <button id=\"back-button\" style=\"display: none;\">Zurück</button>\n",
        "\n",
        "        <script>\n",
        "            const uploadArea = document.getElementById('upload-area');\n",
        "            const fileInput = document.getElementById('file-input');\n",
        "            const form = document.getElementById('upload-form');\n",
        "            const loading = document.getElementById('loading');\n",
        "            const resultDiv = document.getElementById('result');\n",
        "            const uploadedImage = document.getElementById('uploaded-image');\n",
        "            const backButton = document.getElementById('back-button');\n",
        "\n",
        "            uploadArea.addEventListener('click', () => fileInput.click());\n",
        "\n",
        "            uploadArea.addEventListener('dragover', (event) => {\n",
        "                event.preventDefault();\n",
        "                uploadArea.classList.add('dragover');\n",
        "            });\n",
        "\n",
        "            uploadArea.addEventListener('dragleave', () => {\n",
        "                uploadArea.classList.remove('dragover');\n",
        "            });\n",
        "\n",
        "            uploadArea.addEventListener('drop', (event) => {\n",
        "                event.preventDefault();\n",
        "                uploadArea.classList.remove('dragover');\n",
        "                const files = event.dataTransfer.files;\n",
        "                if (files.length > 0) {\n",
        "                    fileInput.files = files;\n",
        "                    uploadArea.textContent = files[0].name;\n",
        "                }\n",
        "            });\n",
        "\n",
        "            fileInput.addEventListener('change', () => {\n",
        "                if (fileInput.files.length > 0) {\n",
        "                    uploadArea.textContent = fileInput.files[0].name;\n",
        "                }\n",
        "            });\n",
        "\n",
        "            form.addEventListener('submit', (event) => {\n",
        "                event.preventDefault();\n",
        "                if (fileInput.files.length === 0) {\n",
        "                    alert(\"Bitte wähle eine Datei aus, bevor du fortfährst.\");\n",
        "                    return;\n",
        "                }\n",
        "\n",
        "                const formData = new FormData();\n",
        "                formData.append('file', fileInput.files[0]);\n",
        "\n",
        "                form.style.display = 'none';\n",
        "                loading.style.display = 'block';\n",
        "\n",
        "                fetch('/predict', {\n",
        "                    method: 'POST',\n",
        "                    body: formData\n",
        "                })\n",
        "                .then(response => response.json())\n",
        "                .then(data => {\n",
        "                    loading.style.display = 'none';\n",
        "                    if (data.error) {\n",
        "                        resultDiv.textContent = `Fehler: ${data.error}`;\n",
        "                    } else {\n",
        "                        const gender = data.gender;\n",
        "                        const age = data.age.toFixed(2);\n",
        "                        resultDiv.textContent = `Du bist ${gender} und in etwa ${age} Jahre alt.`;\n",
        "                        resultDiv.style.display = 'block';  // Only show resultDiv when content is not empty\n",
        "\n",
        "                        uploadedImage.src = `data:image/jpeg;base64,${data.image}`;\n",
        "                        uploadedImage.style.display = 'block';\n",
        "                    }\n",
        "                    backButton.style.display = 'block';\n",
        "                })\n",
        "                .catch(error => {\n",
        "                    loading.style.display = 'none';\n",
        "                    console.error('Error:', error);\n",
        "                    resultDiv.textContent = 'Fehler bei der Vorhersage.';\n",
        "                    backButton.style.display = 'block';\n",
        "                });\n",
        "            });\n",
        "\n",
        "            backButton.addEventListener('click', () => {\n",
        "                location.reload();\n",
        "            });\n",
        "        </script>\n",
        "    </body>\n",
        "    </html>\n",
        "    '''\n"
      ]
    },
    {
      "cell_type": "markdown",
      "source": [
        "# Image Preparation\n",
        "\n",
        "To ensure compatibility with the model, all images are scaled and quantized."
      ],
      "metadata": {
        "id": "uAnG2ID5EihY"
      },
      "id": "uAnG2ID5EihY"
    },
    {
      "cell_type": "code",
      "execution_count": 101,
      "id": "f695c319",
      "metadata": {
        "id": "f695c319"
      },
      "outputs": [],
      "source": [
        "def prepare_image(image, input_details):\n",
        "    img = cv2.resize(image, (128, 128))\n",
        "    img = cv2.cvtColor(img, cv2.COLOR_BGR2RGB)\n",
        "    img = img.astype(np.float32)\n",
        "    input_scale, input_zero_point = input_details[0]['quantization']\n",
        "    img = img / 255.0\n",
        "    img = img / input_scale + input_zero_point\n",
        "    img = np.round(img).astype(np.int8)\n",
        "    img = np.expand_dims(img, axis=0)\n",
        "    return img"
      ]
    },
    {
      "cell_type": "markdown",
      "source": [
        "# Load and Run Model\n",
        "\n",
        "Set up interpreters and tensors for the use of the Edge Impulse Model. Make sure you use the prepared image from step above.\n",
        "\n",
        "## Model Performance Gender Classification\n",
        "\n",
        "\n",
        "*   Accuracy: 86,44 %\n",
        "*   Weighted average Precision: 0,90\n",
        "*   Weighted average Recall: 0,90\n",
        "*   Weighted average F1 score: 0,90\n",
        "\n",
        "\n",
        "![confusionmatrix_gendermodel.jpg](data:image/jpeg;base64,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)\n",
        "\n",
        "## Model Performance Age Regression\n",
        "\n",
        "\n",
        "*   Accuracy: 77,17 %\n",
        "*   Mean squared error: 103,08\n",
        "*   Mean absolute error: 7,75\n",
        "*   Explained variance score: 0,74"
      ],
      "metadata": {
        "id": "PTF7Tga_FLpp"
      },
      "id": "PTF7Tga_FLpp"
    },
    {
      "cell_type": "code",
      "execution_count": 102,
      "id": "dd5075c9",
      "metadata": {
        "id": "dd5075c9"
      },
      "outputs": [],
      "source": [
        "def load_and_run_model(model_path, img):\n",
        "    interpreter = tf.lite.Interpreter(model_path=model_path)\n",
        "    interpreter.allocate_tensors()\n",
        "    input_details = interpreter.get_input_details()\n",
        "    output_details = interpreter.get_output_details()\n",
        "    prepared_image = prepare_image(img, input_details)\n",
        "    interpreter.set_tensor(input_details[0]['index'], prepared_image)\n",
        "    interpreter.invoke()\n",
        "    output = interpreter.get_tensor(output_details[0]['index'])\n",
        "\n",
        "    if output_details[0]['dtype'] == np.int8:\n",
        "        output_scale, output_zero_point = output_details[0]['quantization']\n",
        "        output = output_scale * (output.astype(np.float32) - output_zero_point)\n",
        "\n",
        "    return output"
      ]
    },
    {
      "cell_type": "markdown",
      "source": [
        "# Starting App\n",
        "\n",
        "First render the frontend html to be used in the app.\n",
        "Then create a POST-function to the predict route created in load_and_run_model step, that returns the gender & age prediction.\n",
        "\n",
        "Two Edge Impulse models are used: CNN-Regression for age prediction and Classification for gender prediction.\n",
        "The models were deployed on Edge Impuls via a custom deployment block to extract the Tensorflow Lite Models:\n",
        "\n",
        "\n",
        "*   age_trained.tflite\n",
        "*   gender_trained.tflite\n",
        "\n"
      ],
      "metadata": {
        "id": "9ZZ23B9pFj2w"
      },
      "id": "9ZZ23B9pFj2w"
    },
    {
      "cell_type": "code",
      "execution_count": 103,
      "id": "502a2c22",
      "metadata": {
        "id": "502a2c22"
      },
      "outputs": [],
      "source": [
        "@app.route('/')\n",
        "def index():\n",
        "    return render_template_string(html)"
      ]
    },
    {
      "cell_type": "code",
      "execution_count": 104,
      "id": "395c58dc",
      "metadata": {
        "id": "395c58dc"
      },
      "outputs": [],
      "source": [
        "@app.route('/predict', methods=['POST'])\n",
        "def predict():\n",
        "    if 'file' not in request.files:\n",
        "        return jsonify({'error': 'No file uploaded'}), 400\n",
        "\n",
        "    file = request.files['file']\n",
        "    if file.filename == '':\n",
        "        return jsonify({'error': 'No file selected'}), 400\n",
        "\n",
        "    # Temporäre Datei speichern\n",
        "    temp_path = './temp_image.jpg'\n",
        "    file.save(temp_path)\n",
        "\n",
        "    # Bild lesen\n",
        "    img = cv2.imread(temp_path)\n",
        "\n",
        "    # Pfade zu den Modellen\n",
        "    age_model_path = \"/content/age_trained.tflite\"\n",
        "    gender_model_path = \"/content/gender_trained.tflite\"\n",
        "\n",
        "    # Vorhersage für das Alter\n",
        "    age_prediction = load_and_run_model(age_model_path, img)\n",
        "    predicted_age = float(age_prediction[0][0])\n",
        "\n",
        "    # Vorhersage für das Geschlecht\n",
        "    gender_prediction = load_and_run_model(gender_model_path, img)\n",
        "    female_prob = float(gender_prediction[0][0])\n",
        "    male_prob = float(gender_prediction[0][1])\n",
        "    gender_label = \"Weiblich\" if female_prob > male_prob else \"Männlich\"\n",
        "\n",
        "    # Bild in Base64 umwandeln\n",
        "    pil_image = Image.open(temp_path)\n",
        "    buffered = BytesIO()\n",
        "    pil_image.save(buffered, format=\"JPEG\")\n",
        "    img_str = base64.b64encode(buffered.getvalue()).decode()\n",
        "\n",
        "    # Entfernen der temporären Datei\n",
        "    os.remove(temp_path)\n",
        "\n",
        "    return jsonify({'age': predicted_age, 'gender': gender_label, 'image': img_str})"
      ]
    },
    {
      "cell_type": "markdown",
      "source": [
        "# Initializing ngrok Server\n",
        "\n",
        "\n",
        "[ngrok](https://ngrok.com/) creates a virtual server to run the Flask app. It requires an authtoken to be used and generates a publicly available URL.\n",
        "\n"
      ],
      "metadata": {
        "id": "d02mOr92GlVW"
      },
      "id": "d02mOr92GlVW"
    },
    {
      "cell_type": "code",
      "source": [
        "!ngrok authtoken 2kYRP0TAMP5cl8jkBKhQM77GkUa_sgYBn5R5c95ETQ3qdZ34\n"
      ],
      "metadata": {
        "colab": {
          "base_uri": "https://localhost:8080/"
        },
        "id": "6oNvAuNCotvo",
        "outputId": "cc2d05a1-0974-4a86-b665-de6595aea634"
      },
      "id": "6oNvAuNCotvo",
      "execution_count": 105,
      "outputs": [
        {
          "output_type": "stream",
          "name": "stdout",
          "text": [
            "Authtoken saved to configuration file: /root/.config/ngrok/ngrok.yml\n"
          ]
        }
      ]
    },
    {
      "cell_type": "code",
      "execution_count": null,
      "id": "8fbc9843",
      "metadata": {
        "colab": {
          "base_uri": "https://localhost:8080/"
        },
        "id": "8fbc9843",
        "outputId": "0b595387-4720-4b65-a071-9a27e2a1e373"
      },
      "outputs": [
        {
          "output_type": "stream",
          "name": "stdout",
          "text": [
            " * Running on external URL: https://2c6a-104-197-121-86.ngrok-free.app\n",
            " * Serving Flask app '__main__'\n",
            " * Debug mode: off\n"
          ]
        },
        {
          "output_type": "stream",
          "name": "stderr",
          "text": [
            "INFO:werkzeug:\u001b[31m\u001b[1mWARNING: This is a development server. Do not use it in a production deployment. Use a production WSGI server instead.\u001b[0m\n",
            " * Running on all addresses (0.0.0.0)\n",
            " * Running on http://127.0.0.1:5001\n",
            " * Running on http://172.28.0.12:5001\n",
            "INFO:werkzeug:\u001b[33mPress CTRL+C to quit\u001b[0m\n",
            "INFO:werkzeug:127.0.0.1 - - [14/Aug/2024 10:24:24] \"GET / HTTP/1.1\" 200 -\n",
            "INFO:werkzeug:127.0.0.1 - - [14/Aug/2024 10:24:25] \"\u001b[33mGET /favicon.ico HTTP/1.1\u001b[0m\" 404 -\n"
          ]
        }
      ],
      "source": [
        "if __name__ == '__main__':\n",
        "    port = 5001\n",
        "    public_url = ngrok.connect(port).public_url  # Start ngrok first\n",
        "    print(' * Running on external URL: {}'.format(public_url))\n",
        "    app.run(host='0.0.0.0', port=port, debug=False)  # Then start Flask"
      ]
    }
  ],
  "metadata": {
    "jupytext": {
      "cell_metadata_filter": "-all",
      "main_language": "python",
      "notebook_metadata_filter": "-all"
    },
    "colab": {
      "provenance": []
    },
    "language_info": {
      "name": "python"
    },
    "kernelspec": {
      "name": "python3",
      "display_name": "Python 3"
    }
  },
  "nbformat": 4,
  "nbformat_minor": 5
}